{
 "cells": [
  {
   "cell_type": "code",
   "execution_count": 1,
   "metadata": {
    "collapsed": true
   },
   "outputs": [],
   "source": [
    "import json"
   ]
  },
  {
   "cell_type": "code",
   "execution_count": 2,
   "metadata": {},
   "outputs": [
    {
     "name": "stdout",
     "output_type": "stream",
     "text": [
      "278\n"
     ]
    }
   ],
   "source": [
    "with open('historical_predictions.json', 'r') as f:\n",
    "    data = json.load(f)\n",
    "print(len(data))"
   ]
  },
  {
   "cell_type": "code",
   "execution_count": 3,
   "metadata": {},
   "outputs": [
    {
     "ename": "TypeError",
     "evalue": "unsupported operand type(s) for +=: 'float' and 'str'",
     "output_type": "error",
     "traceback": [
      "\u001b[0;31m---------------------------------------------------------------------------\u001b[0m",
      "\u001b[0;31mTypeError\u001b[0m                                 Traceback (most recent call last)",
      "\u001b[0;32m<ipython-input-3-0b20191322dc>\u001b[0m in \u001b[0;36m<module>\u001b[0;34m()\u001b[0m\n\u001b[1;32m     11\u001b[0m \u001b[0;32mfor\u001b[0m \u001b[0mdatum\u001b[0m \u001b[0;32min\u001b[0m \u001b[0mdata\u001b[0m\u001b[0;34m:\u001b[0m\u001b[0;34m\u001b[0m\u001b[0m\n\u001b[1;32m     12\u001b[0m     \u001b[0mtotalMood\u001b[0m \u001b[0;34m+=\u001b[0m \u001b[0mdatum\u001b[0m\u001b[0;34m[\u001b[0m\u001b[0;34m'actual_mood'\u001b[0m\u001b[0;34m]\u001b[0m\u001b[0;34m\u001b[0m\u001b[0m\n\u001b[0;32m---> 13\u001b[0;31m     \u001b[0mtotalMorale\u001b[0m \u001b[0;34m+=\u001b[0m \u001b[0mdatum\u001b[0m\u001b[0;34m[\u001b[0m\u001b[0;34m'actual_morale'\u001b[0m\u001b[0;34m]\u001b[0m\u001b[0;34m\u001b[0m\u001b[0m\n\u001b[0m\u001b[1;32m     14\u001b[0m     \u001b[0mtotalStress\u001b[0m \u001b[0;34m+=\u001b[0m \u001b[0mdatum\u001b[0m\u001b[0;34m[\u001b[0m\u001b[0;34m'actual_stress'\u001b[0m\u001b[0;34m]\u001b[0m\u001b[0;34m\u001b[0m\u001b[0m\n\u001b[1;32m     15\u001b[0m     \u001b[0mtotalFatigue\u001b[0m \u001b[0;34m+=\u001b[0m \u001b[0mdatum\u001b[0m\u001b[0;34m[\u001b[0m\u001b[0;34m'actual_fatigue'\u001b[0m\u001b[0;34m]\u001b[0m\u001b[0;34m\u001b[0m\u001b[0m\n",
      "\u001b[0;31mTypeError\u001b[0m: unsupported operand type(s) for +=: 'float' and 'str'"
     ]
    }
   ],
   "source": [
    "totalMoodPred = 0\n",
    "totalMoralePred = 0\n",
    "totalStressPred = 0\n",
    "totalFatiguePred = 0\n",
    "totalPredCount = 0\n",
    "totalMood = 0\n",
    "totalMorale = 0\n",
    "totalStress = 0\n",
    "totalFatigue = 0\n",
    "\n",
    "for datum in data:\n",
    "    totalMood += datum['actual_mood']\n",
    "    totalMorale += datum['actual_morale']\n",
    "    totalStress += datum['actual_stress']\n",
    "    totalFatigue += datum['actual_fatigue']\n",
    "#     print(len(datum['predictions']))\n",
    "    for prediction in datum['predictions']:\n",
    "        totalPredCount += 1\n",
    "        totalMoodPred += prediction['LSTM_mood_prediction']\n",
    "        totalMoralePred += prediction['LSTM_morale_prediction']\n",
    "        totalStressPred += prediction['LSTM_stress_prediction']\n",
    "        totalFatiguePred += prediction['LSTM_fatigue_prediction']\n",
    "\n",
    "avgMoodPred = totalMoodPred / totalPredCount\n",
    "avgMood = totalMood / len(data)\n",
    "print(\"average mood: \", avgMood)\n",
    "print(\"average mood pred: \", avgMoodPred)\n",
    "print(\"totalMood: \", totalMood)\n",
    "avgMoralePred = totalMoralePred / totalPredCount\n",
    "avgMorale = totalMorale / len(data)\n",
    "print(\"average morale: \", avgMorale)\n",
    "print(\"average morale pred: \", avgMoralePred)\n",
    "print(\"totalMorale: \", totalMorale)\n",
    "\n",
    "avgStressPred = totalStressPred / totalPredCount\n",
    "avgStress = totalStress / len(data)\n",
    "print(\"average stress: \", avgStress)\n",
    "print(\"average stress pred: \", avgStressPred)\n",
    "print(\"totalStress: \", totalStress)\n",
    "\n",
    "avgFatiguePred = totalFatiguePred / totalPredCount\n",
    "avgFatigue = totalFatigue / len(data)\n",
    "print(\"average fatigue: \", avgFatigue)\n",
    "print(\"average fatigue pred: \", avgFatiguePred)"
   ]
  },
  {
   "cell_type": "code",
   "execution_count": 29,
   "metadata": {},
   "outputs": [
    {
     "name": "stdout",
     "output_type": "stream",
     "text": [
      "2019\n",
      "2019\n"
     ]
    }
   ],
   "source": [
    "totalPredictions = 0\n",
    "for datum in data:\n",
    "    totalPredictions += len(datum['predictions'])\n",
    "print(totalPredictions)"
   ]
  },
  {
   "cell_type": "code",
   "execution_count": null,
   "metadata": {
    "collapsed": true
   },
   "outputs": [],
   "source": []
  }
 ],
 "metadata": {
  "kernelspec": {
   "display_name": "Python 3",
   "language": "python",
   "name": "python3"
  },
  "language_info": {
   "codemirror_mode": {
    "name": "ipython",
    "version": 3
   },
   "file_extension": ".py",
   "mimetype": "text/x-python",
   "name": "python",
   "nbconvert_exporter": "python",
   "pygments_lexer": "ipython3",
   "version": "3.6.1"
  }
 },
 "nbformat": 4,
 "nbformat_minor": 2
}
