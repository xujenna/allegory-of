{
 "cells": [
  {
   "cell_type": "code",
   "execution_count": 1,
   "metadata": {
    "collapsed": true
   },
   "outputs": [],
   "source": [
    "import json"
   ]
  },
  {
   "cell_type": "code",
   "execution_count": 2,
   "metadata": {},
   "outputs": [
    {
     "name": "stdout",
     "output_type": "stream",
     "text": [
      "278\n"
     ]
    }
   ],
   "source": [
    "with open('historical_predictions.json', 'r') as f:\n",
    "    data = json.load(f)\n",
    "print(len(data))"
   ]
  },
  {
   "cell_type": "code",
   "execution_count": 7,
   "metadata": {},
   "outputs": [
    {
     "name": "stdout",
     "output_type": "stream",
     "text": [
      "total mood:  4689.264360785484\n",
      "average mood pred:  2.9418220582092123\n",
      "totalMood:  0\n",
      "total morale:  4651.966272495938\n",
      "average morale pred:  2.918423006584654\n",
      "totalMorale:  0\n",
      "total stress:  1887.1840826603825\n",
      "average stress pred:  1.1839297883691233\n",
      "totalStress:  0\n",
      "total fatigue:  4970.883103297907\n",
      "average fatigue pred:  3.1184963006887747\n"
     ]
    }
   ],
   "source": [
    "totalMoodPred = 0\n",
    "totalMoralePred = 0\n",
    "totalStressPred = 0\n",
    "totalFatiguePred = 0\n",
    "totalPredCount = 0\n",
    "totalMood = 0\n",
    "totalMorale = 0\n",
    "totalStress = 0\n",
    "totalFatigue = 0\n",
    "\n",
    "for datum in data:\n",
    "#     totalMood += datum['actual_mood']\n",
    "#     totalMorale += datum['actual_morale']\n",
    "#     totalStress += datum['actual_stress']\n",
    "#     totalFatigue += datum['actual_fatigue']\n",
    "#     print(len(datum['predictions']))\n",
    "    for prediction in datum['predictions']:\n",
    "        totalPredCount += 1\n",
    "        totalMoodPred += prediction['LSTM_mood_prediction']\n",
    "        totalMoralePred += prediction['LSTM_morale_prediction']\n",
    "        totalStressPred += prediction['LSTM_stress_prediction']\n",
    "        totalFatiguePred += prediction['LSTM_fatigue_prediction']\n",
    "\n",
    "avgMoodPred = totalMoodPred / totalPredCount\n",
    "avgMood = totalMood / len(data)\n",
    "print(\"total mood: \", totalMoodPred)\n",
    "print(\"average mood pred: \", avgMoodPred)\n",
    "print(\"totalMood: \", totalMood)\n",
    "avgMoralePred = totalMoralePred / totalPredCount\n",
    "avgMorale = totalMorale / len(data)\n",
    "print(\"total morale: \", totalMoralePred)\n",
    "print(\"average morale pred: \", avgMoralePred)\n",
    "print(\"totalMorale: \", totalMorale)\n",
    "\n",
    "avgStressPred = totalStressPred / totalPredCount\n",
    "avgStress = totalStress / len(data)\n",
    "print(\"total stress: \", totalStressPred)\n",
    "print(\"average stress pred: \", avgStressPred)\n",
    "print(\"totalStress: \", totalStress)\n",
    "\n",
    "avgFatiguePred = totalFatiguePred / totalPredCount\n",
    "avgFatigue = totalFatigue / len(data)\n",
    "print(\"total fatigue: \", totalFatiguePred)\n",
    "print(\"average fatigue pred: \", avgFatiguePred)"
   ]
  },
  {
   "cell_type": "code",
   "execution_count": 5,
   "metadata": {},
   "outputs": [
    {
     "name": "stdout",
     "output_type": "stream",
     "text": [
      "1594\n"
     ]
    }
   ],
   "source": [
    "totalPredictions = 0\n",
    "for datum in data:\n",
    "    totalPredictions += len(datum['predictions'])\n",
    "print(totalPredictions)"
   ]
  },
  {
   "cell_type": "code",
   "execution_count": null,
   "metadata": {
    "collapsed": true
   },
   "outputs": [],
   "source": []
  }
 ],
 "metadata": {
  "kernelspec": {
   "display_name": "Python 3",
   "language": "python",
   "name": "python3"
  },
  "language_info": {
   "codemirror_mode": {
    "name": "ipython",
    "version": 3
   },
   "file_extension": ".py",
   "mimetype": "text/x-python",
   "name": "python",
   "nbconvert_exporter": "python",
   "pygments_lexer": "ipython3",
   "version": "3.6.1"
  }
 },
 "nbformat": 4,
 "nbformat_minor": 2
}
